{
  "cells": [
    {
      "cell_type": "markdown",
      "metadata": {
        
      },
      "source": [
        "![](https://ws2.sinaimg.cn/large/006tNc79ly1fmebdrkuawj30b3032a9w.jpg)"
      ]
    },
    {
      "cell_type": "markdown",
      "metadata": {
        
      },
      "source": [
        "# PyTorch 介绍"
      ]
    },
    {
      "cell_type": "markdown",
      "metadata": {
        
      },
      "source": [
        "PyTorch 是由 Torch7 团队开源的，这也是Facebook 的 AI 研究团队发布了一个 Python 工具包，据该项目官网介绍，是一个 Python 优先的深度学习框架，能够在强大的 GPU 加速基础上实现张量和动态神经网络。\n",
        "\n",
        "- [Official website] (http:\n",
        "- [Github](https://github.com/pytorch/pytorch)\n",
        "\n",
        "In addition to Facebook, there are a large number of institutions currently using PyTorch.\n",
        "\n",
        "![](https://ws2.sinaimg.cn/large/006tNc79ly1fmebl3ayfij30kk0c2aac.jpg)"
      ]
    },
    {
      "cell_type": "markdown",
      "metadata": {
        
      },
      "source": [
        "PyTorch's predecessor was Torch, a very old tensor library for manipulating multidimensional matrix data. It is widely used in machine learning and other math-intensive applications, but because of its language using Lua, it has been Very small, now using the Python language to return strongly, quickly won a large number of users.\n",
        "\n",
        "PyTorch offers two high-level features:\n",
        "- Tensor calculations with powerful GPU acceleration (similar to numpy)\n",
        "- Built on deep neural network based on autograd system\n",
        "\n",
        "So there are usually two reasons to use PyTorch:\n",
        "- As an alternative to numpy to use powerful GPU acceleration;\n",
        "- Use it as a deep learning research platform that provides maximum flexibility and speed\n"
      ]
    },
    {
      "cell_type": "markdown",
      "metadata": {
        
      },
      "source": [
        "As a Python-first dynamic graph framework, PyTorch has the following features.\n"
      ]
    },
    {
      "cell_type": "markdown",
      "metadata": {
        
      },
      "source": [
        "### Python is preferred\n",
        "PyTorch doesn't simply bind Python to the overall C framework. It's built on top of Python, you can use numpy like\n",
        "\n",
        "### Command-style experience\n",
        "PyTorch's design philosophy is linear, intuitive and easy to use. When you need to execute a line of code, it will execute faithfully. PyTorch has no asynchronous worldview. When you open the debugger, or receive error codes and stack traces, you will find it easy to understand the information. The Stack-trace point will point directly to the exact location of the code definition. We don't want you to waste time when debugging, because of incorrect pointing or asynchronous and opaque engines.\n",
        "\n",
        "### Quick Lean\n",
        "PyTorch has a lightweight framework that integrates various acceleration libraries such as Intel MKL, NVIDIA's CuDNN and NCCL to optimize speed. At its core, its CPU and GPU Tensor and neural network backends (TH, THC, THNN, THCUNN) are written as stand-alone libraries with the C99 API.\n"
      ]
    },
    {
      "cell_type": "markdown",
      "metadata": {
        
      },
      "source": [
        "## Installation\n",
        "PyTorch is very easy to install and can be installed with Anaconda or with pip.\n",
        "\n",
        "Install using conda\n",
        "`conda install pytorch torchvision -c pytorch`\n",
        "\n",
        "Or use pip\n",
        "`pip install http://download.pytorch.org/whl/cu80/torch-0.3.0.post4-cp36-cp36m-linux_x86_64.whl \n",
        "pip install torchvision`\n",
        "\n",
        "Currently only Mac OSX and Linux systems are supported. Windows systems will be supported in the near future. For more details, please visit [Official Website] (http:\n"
      ]
    }
  ],
  "metadata": {
    "kernelspec": {
      "display_name": "mx",
      "language": "python",
      "name": "mx"
    },
    "language_info": {
      "codemirror_mode": {
        "name": "ipython",
        "version": 3
      },
      "file_extension": ".py",
      "mimetype": "text/x-python",
      "name": "python",
      "nbconvert_exporter": "python",
      "pygments_lexer": "ipython3",
      "version": "3.6.0"
    }
  },
  "nbformat": 4,
  "nbformat_minor": 2
}