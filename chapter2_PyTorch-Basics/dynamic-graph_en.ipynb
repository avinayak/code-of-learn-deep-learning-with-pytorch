{
  "cells": [
    {
      "cell_type": "markdown",
      "metadata": {
        
      },
      "source": [
        "# 动态图和静态图\n",
        "At present, the neural network framework is divided into a static graph framework and a dynamic graph framework. The biggest difference between PyTorch and TensorFlow, Caffe and other frameworks is that they have different computational graph representations. TensorFlow uses static graphs, which means that we first define the computation graph and then use it continuously, and in PyTorch, we rebuild a new computation graph each time. Through this course, we will understand the advantages and disadvantages between static and dynamic images.\n",
        "\n",
        "For the user, there are very big differences between the two forms of calculation graphs. At the same time, static graphs and dynamic graphs have their own advantages. For example, dynamic graphs are more convenient for debugging, and users can debug in any way they like. At the same time, it is very intuitive, and the static graph is defined by running it first. After running it again, it is no longer necessary to rebuild the graph, so the speed will be faster than the dynamic graph.\n"
      ]
    },
    {
      "cell_type": "markdown",
      "metadata": {
        
      },
      "source": [
        "![](https://ws3.sinaimg.cn/large/006tNc79ly1fmai482qumg30rs0fmq6e.gif)"
      ]
    },
    {
      "cell_type": "markdown",
      "metadata": {
        
      },
      "source": [
        "Below we compare the definition of the while loop statement in TensorFlow and PyTorch\n"
      ]
    },
    {
      "cell_type": "markdown",
      "metadata": {
        
      },
      "source": [
        "## TensorFlow"
      ]
    },
    {
      "cell_type": "code",
      "execution_count": 1,
      "metadata": {
        "collapsed": true
      },
      "outputs": [],
      "source": [
        "# tensorflow\n",
        "import tensorflow as tf\n",
        "\n",
        "first_counter = tf.constant(0)\n",
        "second_counter = tf.constant(10)"
      ]
    },
    {
      "cell_type": "code",
      "execution_count": 2,
      "metadata": {
        "collapsed": true
      },
      "outputs": [],
      "source": [
        "def cond(first_counter, second_counter, *args):\n",
        "    return first_counter < second_counter\n",
        "\n",
        "def body(first_counter, second_counter):\n",
        "    first_counter = tf.add(first_counter, 2)\n",
        "    second_counter = tf.add(second_counter, 1)\n",
        "    return first_counter, second_counter"
      ]
    },
    {
      "cell_type": "code",
      "execution_count": 3,
      "metadata": {
        "collapsed": false
      },
      "outputs": [],
      "source": [
        "c1, c2 = tf.while_loop(cond, body, [first_counter, second_counter])"
      ]
    },
    {
      "cell_type": "code",
      "execution_count": 4,
      "metadata": {
        "collapsed": true
      },
      "outputs": [],
      "source": [
        "with tf.Session() as sess:\n",
        "    counter_1_res, counter_2_res = sess.run([c1, c2])"
      ]
    },
    {
      "cell_type": "code",
      "execution_count": 5,
      "metadata": {
        "collapsed": false
      },
      "outputs": [
        {
          "name": "stdout",
          "output_type": "stream",
          "text": [
            "20\n",
            "20\n"
          ]
        }
      ],
      "source": [
        "print(counter_1_res)\n",
        "print(counter_2_res)"
      ]
    },
    {
      "cell_type": "markdown",
      "metadata": {
        
      },
      "source": [
        "You can see that TensorFlow needs to build the whole graph into a static one. In other words, the graph is the same every time it is run, it can't be changed, so you can't directly use Python's while loop statement, you need to use the helper function `tf .while_loop` is written as the internal form of TensorFlow\n",
        "\n",
        "This is very counterintuitive and the cost of learning is relatively high.\n",
        "\n",
        "Let's take a look at PyTorch's dynamic graph mechanism, which allows us to use Python's while write loop, which is very convenient.\n"
      ]
    },
    {
      "cell_type": "markdown",
      "metadata": {
        
      },
      "source": [
        "## PyTorch"
      ]
    },
    {
      "cell_type": "code",
      "execution_count": 6,
      "metadata": {
        "collapsed": true
      },
      "outputs": [],
      "source": [
        "# pytorch\n",
        "import torch\n",
        "first_counter = torch.Tensor([0])\n",
        "second_counter = torch.Tensor([10])"
      ]
    },
    {
      "cell_type": "code",
      "execution_count": 11,
      "metadata": {
        "collapsed": false
      },
      "outputs": [],
      "source": [
        "while (first_counter < second_counter)[0]:\n",
        "    first_counter += 2\n",
        "    second_counter += 1"
      ]
    },
    {
      "cell_type": "code",
      "execution_count": 12,
      "metadata": {
        "collapsed": false
      },
      "outputs": [
        {
          "name": "stdout",
          "output_type": "stream",
          "text": [
            "\n",
            " 20\n",
            "[torch.FloatTensor of size 1]\n",
            "\n",
            "\n",
            " 20\n",
            "[torch.FloatTensor of size 1]\n",
            "\n"
          ]
        }
      ],
      "source": [
        "print(first_counter)\n",
        "print(second_counter)"
      ]
    },
    {
      "cell_type": "markdown",
      "metadata": {
        
      },
      "source": [
        "You can see that PyTorch is written in exactly the same way as Python, without any additional learning costs.\n",
        "\n",
        "The above example shows how to build a while loop using static and dynamic graphs. It seems that the dynamic graph is simpler and more intuitive. What do you think?\n"
      ]
    }
  ],
  "metadata": {
    "kernelspec": {
      "display_name": "mx",
      "language": "python",
      "name": "mx"
    },
    "language_info": {
      "codemirror_mode": {
        "name": "ipython",
        "version": 3
      },
      "file_extension": ".py",
      "mimetype": "text/x-python",
      "name": "python",
      "nbconvert_exporter": "python",
      "pygments_lexer": "ipython3",
      "version": "3.6.0"
    }
  },
  "nbformat": 4,
  "nbformat_minor": 2
}