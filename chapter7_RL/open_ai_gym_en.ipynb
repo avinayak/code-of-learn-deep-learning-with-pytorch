{
  "cells": [
    {
      "cell_type": "markdown",
      "metadata": {
        "collapsed": true
      },
      "source": [
        "# Gym Introduction\n",
        "前面我们简单的介绍了强化学习的例子，从这个例子可以发现，构建强化学习的环境非常麻烦，需要耗费我们大量的时间，这个时候我们可以使用一个开源的工具，叫做 gym，是由 open ai 开发的。\n",
        "\n",
        "In this library, from the simple grid to the Doom, there are a variety of game environments that allow everyone to put their own AI into play. It's also very interesting to call the gym. Imagine a group of AIs exercising in the gym and honing their skills.\n",
        "\n",
        "It is also very convenient to use. First enter the following code in the terminal to install.\n",
        "\n",
        "```\n",
        "# Github源\n",
        "git clone https://github.com/openai/gym\n",
        "cd gym\n",
        "pip install -e .[all]\n",
        "\n",
        "#直下载gym包\n",
        "pip install gym[all]\n",
        "```\n",
        "\n",
        "We can visit this page to see the gym [enclosed environment and introduction] (https:\n"
      ]
    },
    {
      "cell_type": "markdown",
      "metadata": {
        
      },
      "source": [
        "In the above environment page, there are many environments built into the gym. We can try a small example in the gym using the q learning mentioned above, [mountain car](https:\n",
        "\n",
        "In order to use q learning, we have to build the q table, and the state space here is continuously uncountable, so we need to discretize the contiguous space, divide the x coordinate and the y coordinate equally into many parts, and the specific implementation can run `mount -car.py` Take a look at the results.\n",
        "\n",
        "If you run it, you can see that the convergence of the q table is very slow, and the reward is always difficult to change. It takes a long time for us to push the car to the end. At this time we need a more powerful weapon, then deep q network.\n"
      ]
    }
  ],
  "metadata": {
    "kernelspec": {
      "display_name": "Python 3",
      "language": "python",
      "name": "python3"
    },
    "language_info": {
      "codemirror_mode": {
        "name": "ipython",
        "version": 3
      },
      "file_extension": ".py",
      "mimetype": "text/x-python",
      "name": "python",
      "nbconvert_exporter": "python",
      "pygments_lexer": "ipython3",
      "version": "3.6.3"
    }
  },
  "nbformat": 4,
  "nbformat_minor": 2
}